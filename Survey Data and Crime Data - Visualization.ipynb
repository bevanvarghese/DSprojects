{
 "cells": [
  {
   "cell_type": "markdown",
   "metadata": {
    "collapsed": true
   },
   "source": [
    "<h1> Data Visualization Project </h1>\n",
    "\n",
    "<h3>Part 1: Analysis of Audience Interest in Data Science Topics</h3>\n",
    "\n",
    "This part explores the data obtained from a survey wherein audience members were asked about their interests in different Data Science topics. "
   ]
  },
  {
   "cell_type": "code",
   "execution_count": null,
   "metadata": {},
   "outputs": [
    {
     "name": "stdout",
     "output_type": "stream",
     "text": [
      "Solving environment: / "
     ]
    }
   ],
   "source": [
    "#importing required libraries\n",
    "import pandas as pd\n",
    "import numpy as np\n",
    "import matplotlib as mpl\n",
    "import matplotlib.pyplot as plt\n",
    "!conda install -c conda-forge folium=0.5.0 --yes\n",
    "import folium\n",
    "\n",
    "print('Folium installed and imported!')"
   ]
  },
  {
   "cell_type": "code",
   "execution_count": null,
   "metadata": {},
   "outputs": [],
   "source": [
    "#importing survey results\n",
    "df1 = pd.read_csv(\"https://cocl.us/datascience_survey_data\", index_col=0)\n",
    "df1"
   ]
  },
  {
   "cell_type": "code",
   "execution_count": null,
   "metadata": {},
   "outputs": [],
   "source": [
    "#sort in descending order of Very Interested\n",
    "df1.sort_values(by='Very interested', ascending=False, axis=0, inplace=True)\n",
    "\n",
    "#formatting the data - represent all numbers as percentages\n",
    "df1[\"Very interested\"] = round(df1[\"Very interested\"]*100/2233, 2)\n",
    "df1[\"Somewhat interested\"] = round(df1[\"Somewhat interested\"]*100/2233, 2)\n",
    "df1[\"Not interested\"] = round(df1[\"Not interested\"]*100/2233, 2)\n",
    "df1"
   ]
  },
  {
   "cell_type": "code",
   "execution_count": null,
   "metadata": {},
   "outputs": [],
   "source": [
    "#plotting the chart using artist layer\n",
    "ax = df1.plot.bar(\n",
    "                    width=0.8, \n",
    "                    figsize=(20,8),\n",
    "                    color = ['#5cb85c', '#5bc0de', '#d9534f'],\n",
    "                    fontsize = 14\n",
    "                    )\n",
    "ax.set_title('Percentage of Respondents\\' Interest in Data Science Areas', size=16)\n",
    "\n",
    "#improving presentation\n",
    "ax.spines[\"top\"].set_visible(False)\n",
    "ax.spines[\"right\"].set_visible(False)\n",
    "ax.spines[\"left\"].set_visible(False)\n",
    "ax.get_yaxis().set_visible(False)\n",
    "\n",
    "#displaying percentages above bars\n",
    "for index, value in enumerate(df1['Very interested']):\n",
    "    label = str(value) + \"%\"\n",
    "    ax.annotate(label, xy=(index-0.44, value+0.5), size=14)\n",
    "for index, value in enumerate(df1['Somewhat interested']):\n",
    "    label = str(value) + \"%\"\n",
    "    ax.annotate(label, xy=(index-0.13, value+0.5), size=14)\n",
    "for index, value in enumerate(df1['Not interested']):\n",
    "    label = str(value) + \"%\"\n",
    "    ax.annotate(label, xy=(index+0.15, value+0.5), size=14)\n",
    "    \n",
    "ax.legend(fontsize=14)\n",
    "plt.show()"
   ]
  },
  {
   "cell_type": "markdown",
   "metadata": {},
   "source": [
    "<h3> Part 2: Crime Rates in San Francisco </h3>\n",
    "\n",
    "This part examines the crimes that have occured in San Francisco, US, and plots a choropleth map to depict the frequency of crimes in different districts of the state."
   ]
  },
  {
   "cell_type": "code",
   "execution_count": null,
   "metadata": {},
   "outputs": [],
   "source": [
    "#importing dataset\n",
    "df2 = pd.read_csv(\"https://cocl.us/sanfran_crime_dataset\")\n",
    "df2.head()"
   ]
  },
  {
   "cell_type": "code",
   "execution_count": null,
   "metadata": {},
   "outputs": [],
   "source": [
    "#cleaning the data\n",
    "df2.drop(['IncidntNum', 'Category', 'Descript', 'DayOfWeek','Date','Time','Resolution','Address','X','Y','Location'], axis=1, inplace=True)\n",
    "df2.rename(columns={'PdDistrict':'Neighborhood','PdId':'Count'}, inplace=True)\n",
    "df2.head()"
   ]
  },
  {
   "cell_type": "code",
   "execution_count": null,
   "metadata": {},
   "outputs": [],
   "source": [
    "df2['Neighborhood'].value_counts()"
   ]
  },
  {
   "cell_type": "code",
   "execution_count": null,
   "metadata": {},
   "outputs": [],
   "source": [
    "df2.groupby('Neighborhood').count()"
   ]
  },
  {
   "cell_type": "code",
   "execution_count": null,
   "metadata": {
    "scrolled": true
   },
   "outputs": [],
   "source": [
    "df2.columns"
   ]
  },
  {
   "cell_type": "code",
   "execution_count": null,
   "metadata": {},
   "outputs": [],
   "source": [
    "#downloading San Francisco GeoJSON file\n",
    "!wget --quiet https://cocl.us/sanfran_geojson\n",
    "    \n",
    "print('GeoJSON file downloaded!')"
   ]
  },
  {
   "cell_type": "code",
   "execution_count": null,
   "metadata": {},
   "outputs": [],
   "source": [
    "sanfran_geo = r'sanfran_geojson'"
   ]
  },
  {
   "cell_type": "code",
   "execution_count": null,
   "metadata": {},
   "outputs": [],
   "source": [
    "# San Francisco latitude and longitude values\n",
    "latitude = 37.77\n",
    "longitude = -122.42\n",
    "\n",
    "# create a SF map\n",
    "sanfran_map = folium.Map(location=[latitude, longitude], zoom_start=12)"
   ]
  },
  {
   "cell_type": "code",
   "execution_count": null,
   "metadata": {},
   "outputs": [],
   "source": [
    "#creating a chloropleth map depicting the crime rates\n",
    "sanfran_map.choropleth(\n",
    "        geo_data = sanfran_geo,\n",
    "        data = df2,\n",
    "        columns = ['Neighborhood', 'Count'],\n",
    "        key_on = 'feature.properties.DISTRICT',\n",
    "        fill_color = 'YlOrRd',\n",
    "        fill_opacity = 0.7,\n",
    "        line_opacity = 0.2,\n",
    "        legend_name = 'Crime Rate in San Francisco',\n",
    "        reset = True\n",
    ")\n",
    "sanfran_map"
   ]
  },
  {
   "cell_type": "code",
   "execution_count": null,
   "metadata": {},
   "outputs": [],
   "source": []
  }
 ],
 "metadata": {
  "kernelspec": {
   "display_name": "Python 3.6",
   "language": "python",
   "name": "python3"
  },
  "language_info": {
   "codemirror_mode": {
    "name": "ipython",
    "version": 3
   },
   "file_extension": ".py",
   "mimetype": "text/x-python",
   "name": "python",
   "nbconvert_exporter": "python",
   "pygments_lexer": "ipython3",
   "version": "3.6.9"
  }
 },
 "nbformat": 4,
 "nbformat_minor": 1
}
